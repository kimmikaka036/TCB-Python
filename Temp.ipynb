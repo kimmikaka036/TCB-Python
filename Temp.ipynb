{
  "nbformat": 4,
  "nbformat_minor": 0,
  "metadata": {
    "colab": {
      "name": "Temp.ipynb",
      "version": "0.3.2",
      "provenance": [],
      "collapsed_sections": [],
      "toc_visible": true,
      "machine_shape": "hm",
      "include_colab_link": true
    },
    "kernelspec": {
      "name": "python3",
      "display_name": "Python 3"
    },
    "accelerator": "TPU"
  },
  "cells": [
    {
      "cell_type": "markdown",
      "metadata": {
        "id": "view-in-github",
        "colab_type": "text"
      },
      "source": [
        "<a href=\"https://colab.research.google.com/github/kimmikaka036/TCB-Python/blob/master/Temp.ipynb\" target=\"_parent\"><img src=\"https://colab.research.google.com/assets/colab-badge.svg\" alt=\"Open In Colab\"/></a>"
      ]
    },
    {
      "cell_type": "code",
      "metadata": {
        "id": "he5LJK5PcZv1",
        "colab_type": "code",
        "outputId": "e8efbe35-9e93-4973-ac82-9a45233392c7",
        "colab": {
          "base_uri": "https://localhost:8080/",
          "height": 122
        }
      },
      "source": [
        "from google.colab import drive\n",
        "drive.mount('/content/drive')"
      ],
      "execution_count": 0,
      "outputs": [
        {
          "output_type": "stream",
          "text": [
            "Go to this URL in a browser: https://accounts.google.com/o/oauth2/auth?client_id=947318989803-6bn6qk8qdgf4n4g3pfee6491hc0brc4i.apps.googleusercontent.com&redirect_uri=urn%3Aietf%3Awg%3Aoauth%3A2.0%3Aoob&scope=email%20https%3A%2F%2Fwww.googleapis.com%2Fauth%2Fdocs.test%20https%3A%2F%2Fwww.googleapis.com%2Fauth%2Fdrive%20https%3A%2F%2Fwww.googleapis.com%2Fauth%2Fdrive.photos.readonly%20https%3A%2F%2Fwww.googleapis.com%2Fauth%2Fpeopleapi.readonly&response_type=code\n",
            "\n",
            "Enter your authorization code:\n",
            "··········\n",
            "Mounted at /content/drive\n"
          ],
          "name": "stdout"
        }
      ]
    },
    {
      "cell_type": "code",
      "metadata": {
        "id": "JdKYNeDQXFFI",
        "colab_type": "code",
        "colab": {}
      },
      "source": [
        "!unzip -o '/content/drive/My Drive/A-Dataset/dataset-crop.zip' "
      ],
      "execution_count": 0,
      "outputs": []
    },
    {
      "cell_type": "code",
      "metadata": {
        "id": "SNZMZNz-VngG",
        "colab_type": "code",
        "outputId": "12f7e907-72ab-4f85-dea6-f5840a73f7bc",
        "colab": {
          "base_uri": "https://localhost:8080/",
          "height": 34
        }
      },
      "source": [
        "import re\n",
        "import numpy as np\n",
        "from PIL import Image\n",
        "\n",
        "from sklearn.model_selection import train_test_split\n",
        "from keras import backend as K\n",
        "from keras.layers import Activation\n",
        "from keras.layers import Input, Lambda, Dense, Dropout, Convolution2D, MaxPooling2D, Flatten\n",
        "from keras.models import Sequential, Model\n",
        "from keras.optimizers import RMSprop"
      ],
      "execution_count": 0,
      "outputs": [
        {
          "output_type": "stream",
          "text": [
            "Using TensorFlow backend.\n"
          ],
          "name": "stderr"
        }
      ]
    },
    {
      "cell_type": "code",
      "metadata": {
        "id": "6Cb4msTk2kVO",
        "colab_type": "code",
        "outputId": "2afc2701-23f5-43a5-acc4-712bec098e6f",
        "colab": {
          "base_uri": "https://localhost:8080/",
          "height": 68
        }
      },
      "source": [
        "from keras.preprocessing.image import ImageDataGenerator, array_to_img, img_to_array, load_img\n",
        "from skimage.io import imread\n",
        "\n",
        "def read_image2(filename ,byteorder='>'):\n",
        "    img = load_img(filename)  # this is a PIL image\n",
        "    img.thumbnail((img.width, img.height))\n",
        "    # Convert to Numpy Array\n",
        "    x = img_to_array(img)   \n",
        "    return x\n",
        "  \n",
        "def read_image3(filename, byteorder='>'):\n",
        "    \n",
        "    #first we read the image, as a raw file to the buffer\n",
        "    im = imread(filename, as_grey = 1)\n",
        "    images = np.asarray(im, dtype=np.float32)\n",
        "    images = images / 255.0 \n",
        "    images = images.reshape( 224, 224) \n",
        "    return  im \n",
        "  \n",
        "def read_image4(filename ,byteorder='>'):\n",
        "    with open(filename, 'rb') as f:\n",
        "        buffer = f.read() \n",
        "        \n",
        "    return np.frombuffer(buffer,\n",
        "                         dtype=np.float32,\n",
        "                         count=224*224, \n",
        "                         ).reshape(224, 224)\n",
        "  \n",
        "\n",
        "image = read_image3('/content/dataset-crop/s1/1.png', 'rw+')\n",
        "image.shape"
      ],
      "execution_count": 0,
      "outputs": [
        {
          "output_type": "stream",
          "text": [
            "/usr/local/lib/python3.6/dist-packages/skimage/io/_io.py:48: UserWarning: `as_grey` has been deprecated in favor of `as_gray`\n",
            "  warn('`as_grey` has been deprecated in favor of `as_gray`')\n"
          ],
          "name": "stderr"
        },
        {
          "output_type": "execute_result",
          "data": {
            "text/plain": [
              "(224, 224)"
            ]
          },
          "metadata": {
            "tags": []
          },
          "execution_count": 4
        }
      ]
    },
    {
      "cell_type": "code",
      "metadata": {
        "id": "zrUrVYUHWGEv",
        "colab_type": "code",
        "colab": {}
      },
      "source": [
        "size = 2\n",
        "total_sample_size = 1000\n",
        "\n",
        "\n",
        "def get_data(size, total_sample_size):\n",
        "    #read the image\n",
        "    image = read_image3('/content/dataset-crop/s' + str(1) + '/' + str(1) + '.png', 'rw+')\n",
        "    #reduce the size\n",
        "    image = image[::size, ::size]\n",
        "    #get the new size\n",
        "    dim1 = image.shape[0]\n",
        "    dim2 = image.shape[1]\n",
        "\n",
        "    count = 0\n",
        "    \n",
        "    #initialize the numpy array with the shape of [total_sample, no_of_pairs, dim1, dim2]\n",
        "    x_geuine_pair = np.zeros([total_sample_size, 2, 1, dim1, dim2]) # 2 is for pairs\n",
        "    y_genuine = np.zeros([total_sample_size, 1])\n",
        "    \n",
        "    for i in range(100):\n",
        "        for j in range(int(total_sample_size/100)):\n",
        "            ind1 = 0\n",
        "            ind2 = 0\n",
        "            \n",
        "            #read images from same directory (genuine pair)\n",
        "            while ind1 == ind2:\n",
        "                ind1 = np.random.randint(2)\n",
        "                ind2 = np.random.randint(2)\n",
        "            \n",
        "            # read the two images\n",
        "            img1 = read_image3('/content/dataset-crop/s' + str(i+1) + '/' + str(ind1 + 1) + '.png', 'rw+')\n",
        "            img2 = read_image3('/content/dataset-crop/s' + str(i+1) + '/' + str(ind2 + 1) + '.png', 'rw+')\n",
        "            \n",
        "            #reduce the size\n",
        "            img1 = img1[::size, ::size]\n",
        "            img2 = img2[::size, ::size]\n",
        "            \n",
        "            #store the images to the initialized numpy array\n",
        "            x_geuine_pair[count, 0, 0, :, :] = img1\n",
        "            x_geuine_pair[count, 1, 0, :, :] = img2\n",
        "            \n",
        "            #as we are drawing images from the same directory we assign label as 1. (genuine pair)\n",
        "            y_genuine[count] = 1 \n",
        "            count += 1\n",
        "\n",
        "    count = 0\n",
        "    x_imposite_pair = np.zeros([total_sample_size, 2, 1, dim1, dim2])\n",
        "    y_imposite = np.zeros([total_sample_size, 1])\n",
        "    \n",
        "    for i in range(int(total_sample_size/2)):\n",
        "        for j in range(2):\n",
        "            \n",
        "            #read images from different directory (imposite pair)\n",
        "            while True:\n",
        "                ind1 = np.random.randint(100)\n",
        "                ind2 = np.random.randint(100)\n",
        "                if ind1 != ind2:\n",
        "                    break\n",
        "                    \n",
        "            img1 = read_image3('/content/dataset-crop/s' + str(ind1+1) + '/' + str(j + 1) + '.png', 'rw+')\n",
        "            img2 = read_image3('/content/dataset-crop/s' + str(ind2+1) + '/' + str(j + 1) + '.png', 'rw+')\n",
        "\n",
        "            img1 = img1[::size, ::size]\n",
        "            img2 = img2[::size, ::size]\n",
        "\n",
        "            x_imposite_pair[count, 0, 0, :, :] = img1\n",
        "            x_imposite_pair[count, 1, 0, :, :] = img2\n",
        "            #as we are drawing images from the different directory we assign label as 0. (imposite pair)\n",
        "            y_imposite[count] = 0\n",
        "            count += 1\n",
        "            \n",
        "    #now, concatenate, genuine pairs and imposite pair to get the whole data\n",
        "    X = np.concatenate([x_geuine_pair, x_imposite_pair], axis=0)/255\n",
        "    Y = np.concatenate([y_genuine, y_imposite], axis=0)\n",
        "\n",
        "    return X, Y\n"
      ],
      "execution_count": 0,
      "outputs": []
    },
    {
      "cell_type": "code",
      "metadata": {
        "id": "ILoqFrEpXO33",
        "colab_type": "code",
        "outputId": "cbdbf49f-95af-4f72-9e6c-d9e0a6059e58",
        "colab": {
          "base_uri": "https://localhost:8080/",
          "height": 85
        }
      },
      "source": [
        "X, Y = get_data(size, total_sample_size) \n",
        "print(X.shape)\n",
        "x_train, x_test, y_train, y_test = train_test_split(X, Y, test_size=.25)\n",
        "print(x_train.shape)\n",
        "# print(X)\n"
      ],
      "execution_count": 0,
      "outputs": [
        {
          "output_type": "stream",
          "text": [
            "/usr/local/lib/python3.6/dist-packages/skimage/io/_io.py:48: UserWarning: `as_grey` has been deprecated in favor of `as_gray`\n",
            "  warn('`as_grey` has been deprecated in favor of `as_gray`')\n"
          ],
          "name": "stderr"
        },
        {
          "output_type": "stream",
          "text": [
            "(2000, 2, 1, 112, 112)\n",
            "(1500, 2, 1, 112, 112)\n"
          ],
          "name": "stdout"
        }
      ]
    },
    {
      "cell_type": "code",
      "metadata": {
        "id": "Y1wCO4AJX8ZD",
        "colab_type": "code",
        "colab": {}
      },
      "source": [
        "def build_base_network(input_shape):\n",
        "    input = Input(shape=input_shape)\n",
        "    x = Flatten()(input)\n",
        "    x = Dense(128, activation='relu')(x)\n",
        "    x = Dropout(0.1)(x)\n",
        "    x = Dense(128, activation='relu')(x)\n",
        "    x = Dropout(0.1)(x)\n",
        "    x = Dense(128, activation='relu')(x)\n",
        "    return Model(input, x) "
      ],
      "execution_count": 0,
      "outputs": []
    },
    {
      "cell_type": "code",
      "metadata": {
        "id": "8TEiRZR8tLYR",
        "colab_type": "code",
        "colab": {}
      },
      "source": [
        "input_dim = x_train.shape[2:]\n",
        "img_a = Input(shape=input_dim)\n",
        "img_b = Input(shape=input_dim)\n",
        "\n",
        "base_network = build_base_network(input_dim)\n",
        "feat_vecs_a = base_network(img_a)\n",
        "feat_vecs_b = base_network(img_b)"
      ],
      "execution_count": 0,
      "outputs": []
    },
    {
      "cell_type": "code",
      "metadata": {
        "id": "0mFBnauEYGM3",
        "colab_type": "code",
        "colab": {}
      },
      "source": [
        "def euclidean_distance(vects):\n",
        "    x, y = vects\n",
        "    return K.sqrt(K.sum(K.square(x - y), axis=1, keepdims=True))\n",
        "\n",
        "\n",
        "def eucl_dist_output_shape(shapes):\n",
        "    shape1, shape2 = shapes\n",
        "    return (shape1[0], 1)\n",
        "\n",
        "distance = Lambda(euclidean_distance, output_shape=eucl_dist_output_shape)([feat_vecs_a, feat_vecs_b])"
      ],
      "execution_count": 0,
      "outputs": []
    },
    {
      "cell_type": "code",
      "metadata": {
        "id": "ReFDbV16YqLx",
        "colab_type": "code",
        "outputId": "51ee2fb2-dc37-43f5-8ed3-75f2f3c3d12c",
        "colab": {
          "base_uri": "https://localhost:8080/",
          "height": 71
        }
      },
      "source": [
        "epochs = 13\n",
        "\n",
        "\n",
        "model = Model(input=[img_a, img_b], output=distance)"
      ],
      "execution_count": 0,
      "outputs": [
        {
          "output_type": "stream",
          "text": [
            "/usr/local/lib/python3.6/dist-packages/ipykernel_launcher.py:4: UserWarning: Update your `Model` call to the Keras 2 API: `Model(inputs=[<tf.Tenso..., outputs=Tensor(\"la...)`\n",
            "  after removing the cwd from sys.path.\n"
          ],
          "name": "stderr"
        }
      ]
    },
    {
      "cell_type": "code",
      "metadata": {
        "id": "wwuTLEhMYyHm",
        "colab_type": "code",
        "colab": {}
      },
      "source": [
        "def contrastive_loss(y_true, y_pred):\n",
        "    margin = 1\n",
        "    return K.mean(y_true * K.square(y_pred) + (1 - y_true) * K.square(K.maximum(margin - y_pred, 0)))\n",
        "  \n",
        "def accuracy(y_true, y_pred): \n",
        "      return K.mean(K.equal(y_true, K.cast(y_pred < 0.5, y_true.dtype)))\n",
        "  \n",
        "rms = RMSprop(lr =0.001)\n",
        "\n",
        "model.compile(loss=contrastive_loss, optimizer=rms, metrics=[accuracy])"
      ],
      "execution_count": 0,
      "outputs": []
    },
    {
      "cell_type": "code",
      "metadata": {
        "id": "SR29FJw3Yzfo",
        "colab_type": "code",
        "outputId": "5748ad00-7337-4659-c331-bb250b236849",
        "colab": {
          "base_uri": "https://localhost:8080/",
          "height": 493
        }
      },
      "source": [
        "\n",
        "img_1 = x_train[:, 0]\n",
        "img_2 = x_train[:, 1] \n",
        " \n",
        "img_3 = x_test[:, 0]\n",
        "img_4 = x_test[:, 1] \n",
        "\n",
        "# model.fit([img_1, img_2], y_train,\n",
        "#           batch_size=128,\n",
        "#           epochs=epochs,\n",
        "#           validation_split=.25)\n",
        "\n",
        "model.fit([img_1, img_2], y_train,\n",
        "          batch_size=128,\n",
        "          epochs=epochs,\n",
        "          validation_data=([img_3, img_4], y_test))\n",
        "\n",
        "# "
      ],
      "execution_count": 0,
      "outputs": [
        {
          "output_type": "stream",
          "text": [
            "Train on 1500 samples, validate on 500 samples\n",
            "Epoch 1/13\n",
            "1500/1500 [==============================] - 1s 886us/step - loss: 0.1300 - accuracy: 0.8247 - val_loss: 0.1092 - val_accuracy: 0.8600\n",
            "Epoch 2/13\n",
            "1500/1500 [==============================] - 1s 491us/step - loss: 0.1307 - accuracy: 0.8167 - val_loss: 0.1066 - val_accuracy: 0.8540\n",
            "Epoch 3/13\n",
            "1500/1500 [==============================] - 1s 467us/step - loss: 0.1271 - accuracy: 0.8267 - val_loss: 0.1088 - val_accuracy: 0.8480\n",
            "Epoch 4/13\n",
            "1500/1500 [==============================] - 1s 460us/step - loss: 0.1330 - accuracy: 0.8160 - val_loss: 0.1071 - val_accuracy: 0.8540\n",
            "Epoch 5/13\n",
            "1500/1500 [==============================] - 1s 461us/step - loss: 0.1219 - accuracy: 0.8340 - val_loss: 0.1034 - val_accuracy: 0.8620\n",
            "Epoch 6/13\n",
            "1500/1500 [==============================] - 1s 464us/step - loss: 0.1225 - accuracy: 0.8260 - val_loss: 0.1065 - val_accuracy: 0.8580\n",
            "Epoch 7/13\n",
            "1500/1500 [==============================] - 1s 469us/step - loss: 0.1195 - accuracy: 0.8327 - val_loss: 0.1032 - val_accuracy: 0.8640\n",
            "Epoch 8/13\n",
            "1500/1500 [==============================] - 1s 481us/step - loss: 0.1171 - accuracy: 0.8440 - val_loss: 0.1013 - val_accuracy: 0.8660\n",
            "Epoch 9/13\n",
            "1500/1500 [==============================] - 1s 494us/step - loss: 0.1184 - accuracy: 0.8307 - val_loss: 0.1035 - val_accuracy: 0.8660\n",
            "Epoch 10/13\n",
            "1500/1500 [==============================] - 1s 489us/step - loss: 0.1203 - accuracy: 0.8313 - val_loss: 0.0986 - val_accuracy: 0.8720\n",
            "Epoch 11/13\n",
            "1500/1500 [==============================] - 1s 473us/step - loss: 0.1178 - accuracy: 0.8353 - val_loss: 0.0990 - val_accuracy: 0.8660\n",
            "Epoch 12/13\n",
            "1500/1500 [==============================] - 1s 478us/step - loss: 0.1117 - accuracy: 0.8493 - val_loss: 0.0963 - val_accuracy: 0.8840\n",
            "Epoch 13/13\n",
            "1500/1500 [==============================] - 1s 477us/step - loss: 0.1154 - accuracy: 0.8480 - val_loss: 0.0931 - val_accuracy: 0.8680\n"
          ],
          "name": "stdout"
        },
        {
          "output_type": "execute_result",
          "data": {
            "text/plain": [
              "<keras.callbacks.History at 0x7fecccc470b8>"
            ]
          },
          "metadata": {
            "tags": []
          },
          "execution_count": 31
        }
      ]
    },
    {
      "cell_type": "code",
      "metadata": {
        "id": "0Qk4rP-laRhx",
        "colab_type": "code",
        "colab": {}
      },
      "source": [
        "def compute_accuracy(predictions, labels):\n",
        "    return labels[predictions.ravel() < 0.5].mean()"
      ],
      "execution_count": 0,
      "outputs": []
    },
    {
      "cell_type": "code",
      "metadata": {
        "id": "abFkzF6OaZON",
        "colab_type": "code",
        "outputId": "d7b5a3e9-34ab-41b5-f97b-d54874257835",
        "colab": {
          "base_uri": "https://localhost:8080/",
          "height": 34
        }
      },
      "source": [
        "pred = model.predict([x_test[:, 0], x_test[:, 1]])\n",
        "compute_accuracy(pred, y_test)"
      ],
      "execution_count": 0,
      "outputs": [
        {
          "output_type": "execute_result",
          "data": {
            "text/plain": [
              "0.8143322475570033"
            ]
          },
          "metadata": {
            "tags": []
          },
          "execution_count": 19
        }
      ]
    }
  ]
}